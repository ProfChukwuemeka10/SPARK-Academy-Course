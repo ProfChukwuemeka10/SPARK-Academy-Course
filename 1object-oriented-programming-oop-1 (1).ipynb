{
 "cells": [
  {
   "cell_type": "markdown",
   "metadata": {
    "id": "E_SjWMSPGf-h"
   },
   "source": [
    "🎯 Learning Objectives:\n",
    "\n",
    "  🔹 Understand Object-Oriented Programming core concepts and applications\n",
    "\n",
    "  🏗️ Master OOP Principles: encapsulation, inheritance, polymorphism, abstraction\n",
    "\n",
    "  ⚡ Create Python functions with proper structure, parameters, and documentation\n",
    "\n",
    "  🚀 Build a practical program combining OOP and functional programming concepts"
   ]
  },
  {
   "cell_type": "markdown",
   "metadata": {
    "id": "ukrk_rMIGf-k"
   },
   "source": [
    "# 🚀 Object-Oriented Programming (OOP)\n",
    "\n",
    "Object-Oriented Programming (OOP) focuses on **breaking down a task** into units known as **objects**. Each object includes:\n",
    "\n",
    "- 📊 **Variables (Data)** – Stores information related to the object.  \n",
    "- ⚙️ **Subroutines (Methods)** – Defines the object's behavior and actions.  \n",
    "\n",
    "By organizing code into **objects**, OOP enhances **modularity, reusability, and maintainability**. 🚀\n",
    "  \n",
    "\n",
    "## 🔬 Example: Patient Object  \n",
    "\n",
    "A `Patient` object might have:  \n",
    "\n",
    "### **📋 Properties:**  \n",
    "- 🏷️ `name`  \n",
    "- 🎂 `age`  \n",
    "- 🩸 `blood type`  \n",
    "- 💊 `current medications`  \n",
    "\n",
    "### **⚙️ Behaviors:**  \n",
    "- 🏥 `updateVitals()`  \n",
    "- 🚨 `addAllergy()`  \n",
    "- 💉 `prescribeMedication()`  \n"
   ]
  },
  {
   "cell_type": "markdown",
   "metadata": {
    "id": "zIgzZlJ3Gf-k"
   },
   "source": [
    "## ⭐ Principles of OOP  \n",
    "\n",
    "Object-Oriented Programming (OOP) is built on four fundamental principles that help structure code efficiently.  \n",
    "\n",
    "✅ **Readable** – Easy to understand and follow 📖  \n",
    "✅ **Reusable** – Avoids repeating the same code 🔄  \n",
    "✅ **Scalable** – Easy to add new features 📈  \n",
    "✅ **Efficient** – Reduces errors and simplifies maintenance ⚙️  "
   ]
  },
  {
   "cell_type": "markdown",
   "metadata": {
    "id": "-mfrvI9GTFB4"
   },
   "source": [
    "# 🔍 Overview of Objects  \n",
    "\n",
    "Objects are the **fundamental units** of a program that **simulate real-world entities**.  \n",
    "\n",
    "- 🏗 **Modular Design** – A program is divided into multiple objects, each representing a real-world counterpart.  \n",
    "- 🔄 **Interaction** – Objects communicate through **messages** to accomplish tasks.  \n",
    "\n",
    "## 🏗️ Structure of Objects  \n",
    "\n",
    "Objects have a **standard structure** consisting of **attributes** and **methods (functions)**.  \n",
    "\n",
    "- 📊 **Attributes** – Define the object's characteristics (data/variables).  \n",
    "- ⚙️ **Methods** – Define the object's functionalities (behaviors).  \n",
    "\n",
    "## 🏥 Examples  \n",
    "\n",
    "### **Patient**  \n",
    "- **Attributes** – Name, age, medical history, blood type, weight.  \n",
    "- **Behavior** – Book appointment, take medication, undergo surgery.  \n",
    "\n",
    "### **Medical Device (MRI Scanner)**  \n",
    "- **Attributes** – Model, magnetic field strength, resolution, manufacturer.  \n",
    "- **Behavior** – Scan patient, generate images, adjust settings.  \n",
    "\n",
    "### **Doctor**  \n",
    "- **Attributes** – Name, specialty, experience, license number.  \n",
    "- **Behavior** – Diagnose illness, prescribe treatment, perform surgery.\n",
    "\n",
    "![Object](https://sts.doit.wisc.edu/manuals/python2/images/OOP_Example.jpg)"
   ]
  },
  {
   "cell_type": "markdown",
   "metadata": {
    "id": "Sq0fS3EdULDi"
   },
   "source": [
    "# 🏛️ Class in OOP  \n",
    "\n",
    "A **class** is an **abstraction of objects** or a **collection of objects** sharing similar properties.  \n",
    "\n",
    "## 🔑 Key Points:  \n",
    "- 🏗 **Blueprint for Objects** – Defines the general structure and behavior of objects.  \n",
    "- 🎭 **General vs. Specific** – Objects have specific values, while classes define general or default attributes.  \n",
    "- 🔄 **Multiple Instances** – Several objects can belong to the same class.  \n"
   ]
  },
  {
   "cell_type": "markdown",
   "metadata": {
    "id": "HR-IIxqjbI7h"
   },
   "source": [
    "A **class** acts as a **template or blueprint** for creating a specific set of objects.  \n",
    "\n",
    "- 🏗 **Defines Structure** – Specifies attributes and methods for objects.  \n",
    "- 🔄 **Reusable** – Multiple objects can be created from a single class.  \n",
    "- 🎭 **General vs. Specific** – The class provides a general structure, while objects hold specific values.  \n",
    "\n",
    "\n",
    "### **Class: Patient**  \n",
    "- **Attributes** – Name, age, medical history, blood type.  \n",
    "- **Methods** – Book appointment, take medication, request lab tests.  \n",
    "\n",
    "Each **patient object** created from this class will have unique attribute values while following the same structure!\n",
    "\n",
    "![Class](https://codersite.dev/assets/images/carClass.jpg)"
   ]
  },
  {
   "cell_type": "markdown",
   "metadata": {
    "id": "q3UfIxuDSOP3"
   },
   "source": [
    "# 🎯 Core Concepts of OOP  \n",
    "\n",
    "## 🔒 Encapsulation  \n",
    "## 🔄 Inheritance  \n",
    "## 🔀 Polymorphism  \n",
    "## 🎭 Abstraction\n"
   ]
  },
  {
   "cell_type": "markdown",
   "metadata": {
    "id": "9Kl0WCV6Gf-l"
   },
   "source": [
    "## 1️⃣ Encapsulation  \n",
    "\n",
    "Think of a **medical record system** where:  \n",
    "\n",
    "- 📦 **Data (properties)** and **methods** to manipulate that data are bundled together  \n",
    "- 🔐 **Access to patient information is controlled**  \n",
    "- ✅ Only **authorized methods** can modify patient data\n",
    "\n",
    "![encapsulation](https://www.scientecheasy.com/wp-content/uploads/2023/10/python-encapsulation-example.png)\n"
   ]
  },
  {
   "cell_type": "code",
   "execution_count": null,
   "metadata": {
    "id": "ZgmOrGSUUdpi"
   },
   "outputs": [],
   "source": [
    "class Patient:\n",
    "    def __init__(self):\n",
    "        self.__records = []  # Private data\n",
    "\n",
    "    def add_record(self, record):  # Public method\n",
    "        self.__records.append(record)"
   ]
  },
  {
   "cell_type": "markdown",
   "metadata": {
    "id": "M9eF7jrWGf-l"
   },
   "source": [
    "## 2️⃣ Inheritance  \n",
    "\n",
    "Inheritance allows one class (**child/derived**) to inherit properties and methods from another class (**parent/base**).  \n",
    "\n",
    "🩺 Different types of patients can share **common basic information** but have **specialized additional features**.\n",
    "\n",
    "![OOP](https://media2.dev.to/dynamic/image/width=800%2Cheight=%2Cfit=scale-down%2Cgravity=auto%2Cformat=auto/https%3A%2F%2Fdev-to-uploads.s3.amazonaws.com%2Fuploads%2Farticles%2Fbe780pnhc1i6ybjluhfh.png)\n"
   ]
  },
  {
   "cell_type": "code",
   "execution_count": null,
   "metadata": {
    "id": "--4S1yHvVI3p"
   },
   "outputs": [],
   "source": [
    "class Person:\n",
    "    def __init__(self, name):\n",
    "        self.name = name\n",
    "\n",
    "class Doctor(Person):\n",
    "    def prescribe(self):\n",
    "        return \"Medicine prescribed\""
   ]
  },
  {
   "cell_type": "markdown",
   "metadata": {
    "id": "YMSX1DzNGf-l"
   },
   "source": [
    "## 3️⃣ Polymorphism  \n",
    "\n",
    "Polymorphism means **\"many forms\"** – it allows different classes to **respond to the same method call in different ways**.  \n",
    "\n",
    "🩺 **Medical Context:**  \n",
    "Just like how different types of doctors **perform examinations differently**, but they all **\"perform examinations.\"**\n",
    "\n",
    "![OOP](https://www.learncomputerscienceonline.com/wp-content/uploads/2021/01/What-Is-Polymorphism-In-OOP.jpg)\n"
   ]
  },
  {
   "cell_type": "code",
   "execution_count": null,
   "metadata": {
    "id": "MbG4fC0nVi7S"
   },
   "outputs": [],
   "source": [
    "class Surgeon:\n",
    "    def treat(self):\n",
    "        return \"Surgical treatment\"\n",
    "\n",
    "class Pediatrician:\n",
    "    def treat(self):\n",
    "        return \"Child treatment\""
   ]
  },
  {
   "cell_type": "markdown",
   "metadata": {
    "id": "al8oGFw0Gf-l"
   },
   "source": [
    "## 4️⃣ Abstraction  \n",
    "\n",
    "Abstraction is about **hiding complex implementation details** and showing only the **necessary features**.  \n",
    "\n",
    "🩺 **Medical Context:**  \n",
    "Just like how a **doctor uses a medical device** without needing to know its **internal workings**.  \n",
    "\n",
    "![OOP]()"
   ]
  },
  {
   "cell_type": "code",
   "execution_count": null,
   "metadata": {
    "id": "WqsI6VelWWjj"
   },
   "outputs": [],
   "source": [
    "class BloodTest:\n",
    "    def get_results(self):  # User only sees this simple method\n",
    "        return self._analyze_blood()  # Complex internal process hidden"
   ]
  },
  {
   "cell_type": "markdown",
   "metadata": {
    "id": "4ZakVsvVGf-m"
   },
   "source": [
    "## 🔧 Functions\n",
    "\n",
    "- 📌 A block of code that only runs when explicitly called  \n",
    "- 🎯 Can accept arguments (or parameters) that alter its behavior  \n",
    "- 🔄 Can accept any number/type of inputs, but always return a single object  \n",
    "  - ⚠️ *Note:* Functions can return tuples (which may *appear* as multiple objects)  \n"
   ]
  },
  {
   "cell_type": "markdown",
   "metadata": {
    "id": "GYOqVGIaGf-m"
   },
   "source": [
    "### **🔹 Function Definition**  \n",
    "\n",
    "Functions in Python are defined using the `def` keyword. This allows us to add functionalities and properties as needed while maintaining code readability and simplicity.  \n",
    "\n",
    "For example, we can calculate the **Body Mass Index (BMI)** for patients using a function.  \n",
    "\n",
    "The function `calculate_bmi()` is defined using `def`. 🏥📊  \n"
   ]
  },
  {
   "cell_type": "markdown",
   "metadata": {},
   "source": [
    "# 🚀 Types of Python Functions  \n",
    "\n",
    "Python functions are categorized into two main types:  \n",
    "\n",
    "## 🔹 1. Inbuilt Functions  \n",
    "These are **predefined functions** in Python that perform common tasks. \n",
    "\n",
    "### 📌 Examples:  \n",
    "```python\n",
    "print(len([1, 2, 3]))  # Output: 3"
   ]
  },
  {
   "cell_type": "markdown",
   "metadata": {},
   "source": [
    "## 🔹 2. User-Defined Functions  \n",
    "\n",
    "These are **custom functions** created by the user to perform specific tasks.  \n",
    "\n",
    "### 📌 Example: Greeting Function  \n",
    "```python\n",
    "def greet():\n",
    "    print(\"Hello! Welcome to the health center. 😊\")\n",
    "\n",
    "greet()  # Output: Hello! Welcome to the health center. 😊"
   ]
  },
  {
   "cell_type": "markdown",
   "metadata": {},
   "source": [
    "# 🚀 Inbuilt Functions in Python  \n",
    "\n",
    "Python provides **inbuilt functions** to perform common tasks efficiently. These functions save time and effort by handling operations without writing extra code.  \n",
    "\n",
    "## 🔹 Common Inbuilt Functions  \n",
    "\n",
    "### 📊 1. `len()` – Get Length  \n",
    "Used to count the number of items in a list, string, or dictionary.  \n",
    "\n",
    "```python\n",
    "patients = [\"John\", \"Alice\", \"David\", \"Sophia\"]\n",
    "print(len(patients))  # Output: 4"
   ]
  },
  {
   "cell_type": "markdown",
   "metadata": {},
   "source": [
    "### 💊 `sum()` – Calculate Total  \n",
    "Used to compute the total cost of medications.  "
   ]
  },
  {
   "cell_type": "code",
   "execution_count": 5,
   "metadata": {
    "execution": {
     "iopub.execute_input": "2025-02-16T17:25:38.511405Z",
     "iopub.status.busy": "2025-02-16T17:25:38.511073Z",
     "iopub.status.idle": "2025-02-16T17:25:38.518077Z",
     "shell.execute_reply": "2025-02-16T17:25:38.516455Z",
     "shell.execute_reply.started": "2025-02-16T17:25:38.511381Z"
    }
   },
   "outputs": [
    {
     "name": "stdout",
     "output_type": "stream",
     "text": [
      "500\n"
     ]
    }
   ],
   "source": [
    "# Example: Calculate the total cost of medications  \n",
    "\n",
    "medication_costs = [50, 100, 200, 150]\n",
    "print(sum(medication_costs)) "
   ]
  },
  {
   "cell_type": "markdown",
   "metadata": {},
   "source": [
    "# 🏥 `max()` & `min()` – Find Maximum & Minimum  \n",
    "Used to find the highest and lowest patient temperatures recorded.\n"
   ]
  },
  {
   "cell_type": "code",
   "execution_count": 6,
   "metadata": {
    "execution": {
     "iopub.execute_input": "2025-02-16T17:26:29.622459Z",
     "iopub.status.busy": "2025-02-16T17:26:29.621991Z",
     "iopub.status.idle": "2025-02-16T17:26:29.629338Z",
     "shell.execute_reply": "2025-02-16T17:26:29.628106Z",
     "shell.execute_reply.started": "2025-02-16T17:26:29.622425Z"
    }
   },
   "outputs": [
    {
     "name": "stdout",
     "output_type": "stream",
     "text": [
      "101.2\n",
      "97.8\n"
     ]
    }
   ],
   "source": [
    "# Example: Find the highest and lowest recorded temperatures  \n",
    "\n",
    "temperatures = [98.6, 99.5, 101.2, 97.8]\n",
    "print(max(temperatures))  # Output: 101.2\n",
    "print(min(temperatures))  # Output: 97.8"
   ]
  },
  {
   "cell_type": "markdown",
   "metadata": {},
   "source": [
    "# 📌 `round()` – Round Off Numbers  \n",
    "Used to round a patient's BMI to two decimal places. \n"
   ]
  },
  {
   "cell_type": "code",
   "execution_count": 7,
   "metadata": {
    "execution": {
     "iopub.execute_input": "2025-02-16T17:27:26.771865Z",
     "iopub.status.busy": "2025-02-16T17:27:26.771509Z",
     "iopub.status.idle": "2025-02-16T17:27:26.777264Z",
     "shell.execute_reply": "2025-02-16T17:27:26.776215Z",
     "shell.execute_reply.started": "2025-02-16T17:27:26.771802Z"
    }
   },
   "outputs": [
    {
     "name": "stdout",
     "output_type": "stream",
     "text": [
      "24.68\n"
     ]
    }
   ],
   "source": [
    "# Example: Round a patient's BMI to 2 decimal places  \n",
    "\n",
    "bmi = 24.6789\n",
    "print(round(bmi, 2))  # Output: 24.68"
   ]
  },
  {
   "cell_type": "markdown",
   "metadata": {},
   "source": [
    "# 🏷️ `type()` – Get Data Type  \n",
    "Used to check the type of input data in a health record system.  \n"
   ]
  },
  {
   "cell_type": "code",
   "execution_count": 1,
   "metadata": {},
   "outputs": [
    {
     "name": "stdout",
     "output_type": "stream",
     "text": [
      "<class 'int'>\n"
     ]
    }
   ],
   "source": [
    "# Example: Check the type of a patient's age  \n",
    "\n",
    "age = 45\n",
    "print(type(age))  # Output: <class 'int'>"
   ]
  },
  {
   "cell_type": "markdown",
   "metadata": {},
   "source": [
    "# 🚀 Python Functions  \n",
    "\n",
    "A **function** in Python is a block of code that performs a specific task.  \n",
    "\n",
    "We've used built-in functions like `min()` & `max()` to find the smallest and largest numbers in a list. But guess what? **We can create our own functions!** 🎉  \n",
    "\n",
    "## 🔹 Why Use Functions?  \n",
    "✅ Organize code into reusable chunks  \n",
    "✅ Make programs cleaner & more manageable  \n",
    "\n",
    "## 📝 Function Syntax  \n",
    "User-defined functions are custom functions we create for specific tasks. Stay tuned to learn how! 🚀  \n"
   ]
  },
  {
   "cell_type": "code",
   "execution_count": 2,
   "metadata": {},
   "outputs": [],
   "source": [
    "def check_vitals():\n",
    "    print(\"Checking patient vitals... ✅\")"
   ]
  },
  {
   "cell_type": "code",
   "execution_count": 3,
   "metadata": {},
   "outputs": [
    {
     "name": "stdout",
     "output_type": "stream",
     "text": [
      "Checking patient vitals... ✅\n"
     ]
    }
   ],
   "source": [
    "check_vitals()"
   ]
  },
  {
   "cell_type": "code",
   "execution_count": 6,
   "metadata": {
    "colab": {
     "base_uri": "https://localhost:8080/"
    },
    "id": "UG0-YTBzGf-m",
    "outputId": "f00ae9cd-d71f-4d5b-e0d7-6d0412b6a220"
   },
   "outputs": [
    {
     "name": "stdout",
     "output_type": "stream",
     "text": [
      "BMI: 22.86, Category: Normal weight\n"
     ]
    }
   ],
   "source": [
    "def calculate_bmi(weight_kg, height_m):\n",
    "    \"\"\"\n",
    "    Calculate BMI and return the category.\n",
    "\n",
    "    Parameters:\n",
    "    weight_kg (float): Weight in kilograms\n",
    "    height_m (float): Height in meters\n",
    "\n",
    "    Returns:\n",
    "    tuple: (BMI value, category)\n",
    "    \"\"\"\n",
    "    bmi = weight_kg / (height_m ** 2)\n",
    "\n",
    "    if bmi < 18.5:\n",
    "        category = \"Underweight\"\n",
    "    elif 18.5 <= bmi < 24.9:\n",
    "        category = \"Normal weight\"\n",
    "    elif 25 <= bmi < 29.9:\n",
    "        category = \"Overweight\"\n",
    "    else:\n",
    "        category = \"Obese\"\n",
    "\n",
    "    return bmi, category\n",
    "\n",
    "\n",
    "weight = 70  # kg\n",
    "height = 1.75  # meters\n",
    "\n",
    "bmi_value, bmi_category = calculate_bmi(weight, height)\n",
    "print(f\"BMI: {bmi_value:.2f}, Category: {bmi_category}\")\n"
   ]
  },
  {
   "cell_type": "markdown",
   "metadata": {
    "id": "erpyucDFugpa"
   },
   "source": [
    "### **📢 Calling a Function**  \n",
    "\n",
    "Once a function is defined, it can be executed by calling its name followed by parentheses.  \n",
    "\n",
    "In the example below:  \n",
    "- The function takes **two arguments**: `weight_kg` and `height_m`.  \n",
    "- The **BMI** is calculated and returned using the `return` statement.  \n",
    "- The function is called by passing actual values `(70, 1.75)`, and the result is printed.  "
   ]
  },
  {
   "cell_type": "code",
   "execution_count": null,
   "metadata": {
    "id": "_A4fUvYCujDE"
   },
   "outputs": [],
   "source": [
    "# Calling the function with actual values\n",
    "bmi_value = calculate_bmi(70, 1.75)"
   ]
  },
  {
   "cell_type": "markdown",
   "metadata": {
    "id": "HfF9OUFYt9fe"
   },
   "source": [
    "### 🔹 Positional vs. Keyword Arguments  \n",
    "\n",
    "- **Positional arguments** are defined by position and *must* be passed.  \n",
    "  - Arguments in the function signature are filled in order.  \n",
    "- **Keyword arguments** have a default value.  \n",
    "  - Arguments can be passed in any order (after any positional arguments).  \n"
   ]
  },
  {
   "cell_type": "code",
   "execution_count": null,
   "metadata": {
    "colab": {
     "base_uri": "https://localhost:8080/"
    },
    "id": "9pfNhJ4Rt_1A",
    "outputId": "14e6a619-1eec-497e-9e59-849405882211"
   },
   "outputs": [
    {
     "name": "stdout",
     "output_type": "stream",
     "text": [
      "Patient Name: Alice\n",
      "Age: 30\n",
      "Condition: Healthy\n",
      "Patient Name: Bob\n",
      "Age: 45\n",
      "Condition: Diabetic\n",
      "Patient Name: Charlie\n",
      "Age: 25\n",
      "Condition: Hypertensive\n"
     ]
    }
   ],
   "source": [
    "def patient_info(name, age, condition=\"Healthy\"):\n",
    "    \"\"\"\n",
    "    Displays patient information.\n",
    "\n",
    "    Parameters:\n",
    "    name (str): Patient's name (positional)\n",
    "    age (int): Patient's age (positional)\n",
    "    condition (str, optional): Patient's condition (keyword argument, default is \"Healthy\")\n",
    "    \"\"\"\n",
    "    print(f\"Patient Name: {name}\")\n",
    "    print(f\"Age: {age}\")\n",
    "    print(f\"Condition: {condition}\")\n",
    "\n",
    "# Using positional arguments (must be in order)\n",
    "patient_info(\"Alice\", 30)\n",
    "\n",
    "# Mixing positional and keyword arguments\n",
    "patient_info(\"Bob\", 45, condition=\"Diabetic\")\n",
    "\n",
    "# Using only keyword arguments (after positional arguments)\n",
    "patient_info(name=\"Charlie\", age=25, condition=\"Hypertensive\")"
   ]
  },
  {
   "cell_type": "markdown",
   "metadata": {},
   "source": [
    "# 🌟 *args and **kwargs in Python  \n",
    "\n",
    "A hospital needs to calculate the total cost of a patient’s medications. Instead of defining a function with multiple fixed arguments, we can use `*args` to handle any number of medications dynamically.  \n",
    "\n",
    "## 🏥 Example: Calculating Medication Costs  \n",
    "\n",
    "```python\n",
    "def total_cost(*prices):\n",
    "    return sum(prices)\n",
    "\n",
    "print(total_cost(50, 100, 200, 150))  # Output: 500\n"
   ]
  },
  {
   "cell_type": "markdown",
   "metadata": {},
   "source": [
    "# 🏥 Positional & Keyword Arguments in Python  \n",
    "\n",
    "Till now, we've passed arguments to functions using only names, like `medicine`, `dose`, and `price`. These are called **positional arguments**.  \n",
    "\n",
    "Another type is **keyword arguments**, where we use both a name and a default value.  \n",
    "\n",
    "## 💊 Example: Medication Discount  \n",
    "\n",
    "During a health awareness campaign, a **5% discount** is offered on medications. Outside the campaign, there’s no discount.  \n",
    "\n",
    "Let's create a function to compute the total cost for a patient's prescribed medicines.  \n",
    "\n",
    "```python\n",
    "def total_bill(price, quantity, discount=0.05):  \n",
    "    total = price * quantity * (1 - discount)  \n",
    "    return total  \n",
    "\n",
    "print(total_bill(200, 3))  # With 5% discount\n",
    "print(total_bill(200, 3, discount=0))  # No discount"
   ]
  },
  {
   "cell_type": "markdown",
   "metadata": {},
   "source": [
    "## 🔹 Why Use Keyword Arguments?  \n",
    "\n",
    " ✅ Provides **default values** for flexibility  \n",
    " ✅ Allows specifying arguments in **any order**  \n",
    " ✅ Enhances **code readability**  \n",
    "\n",
    "Using **positional and keyword arguments** helps make healthcare applications more **efficient**! 🚑💉  "
   ]
  },
  {
   "cell_type": "markdown",
   "metadata": {},
   "source": [
    "# 🏥 Keyword Arguments & **kwargs in Python  \n",
    "\n",
    "If we assign a value to a **positional argument**, it becomes a **keyword argument**. However, placing keyword arguments before positional arguments causes a **SyntaxError**.  \n",
    "\n",
    "Just like `*args` removes the constraint on the number of **positional arguments**, `**kwargs` removes the constraint on the number of **keyword arguments**.  \n",
    "\n",
    "The `**kwargs` argument must be a **mapping** (like a dictionary).  \n",
    "\n",
    "## 💊 Example: Medical Discount & Cashback  \n",
    "\n",
    "A hospital pharmacy offers:  \n",
    "- **5% discount** on all medications 💰  \n",
    "- **$5 cashback** for the last day of a health campaign  \n",
    "\n",
    "Let's create a function to compute the **patient’s net bill**.  \n",
    "\n",
    "```python\n",
    "def total_bill(price, quantity, discount=0.05, **kwargs):\n",
    "    total = price * quantity * (1 - discount)  \n",
    "    cashback = kwargs.get(\"cashback\", 0)  # Get cashback if available  \n",
    "    return total - cashback  \n",
    "\n",
    "print(total_bill(200, 3, cashback=5))  # Apply $5 cashback  \n",
    "print(total_bill(200, 3))  # No cashback  "
   ]
  },
  {
   "cell_type": "markdown",
   "metadata": {
    "id": "RL-Nga8pvLvk"
   },
   "source": [
    "### 🔄 **Return Statements**  \n",
    "\n",
    "The `return` statement in Python is used to exit a function and send a value back to the caller. If no value is specified, the function returns `None` by default.  \n",
    "\n",
    "The `return` keyword allows us to send meaningful results back to the caller. Instead of just printing the **Body Mass Index (BMI)**, we can enhance our function to also determine the BMI category and return a more informative result.  "
   ]
  },
  {
   "cell_type": "code",
   "execution_count": null,
   "metadata": {
    "colab": {
     "base_uri": "https://localhost:8080/"
    },
    "id": "ZE1drUuvvKkR",
    "outputId": "5dcefc88-f2e0-4964-b9a3-6a9a310e8430"
   },
   "outputs": [
    {
     "name": "stdout",
     "output_type": "stream",
     "text": [
      "BMI: 22.86\n"
     ]
    }
   ],
   "source": [
    "def calculate_bmi(weight, height):\n",
    "    bmi = weight / (height ** 2)\n",
    "    return bmi  # Returning the calculated BMI\n",
    "\n",
    "result = calculate_bmi(70, 1.75)\n",
    "print(f\"BMI: {result:.2f}\")"
   ]
  },
  {
   "cell_type": "markdown",
   "metadata": {
    "id": "jkboYjBQc-LC"
   },
   "source": [
    "# 🚀 Advantages of OOP\n",
    "\n",
    "- 🌍 **Real-World Simulation** – Enhances understanding and problem visualization.  \n",
    "- 🛠 **Easier Maintenance** – Objects interact via public interfaces, allowing updates without breaking the system.  \n",
    "- 📈 **Modularity & Scalability** – New features can be added easily.  \n",
    "- 🔄 **Code Reusability** – Objects can be reused across different programs.  \n",
    "- 🔒 **Enhanced Security** – Restricts direct access to object data, improving protection.  \n",
    "![OOP](https://ik.imagekit.io/upgrad1/abroad-images/imageCompo/images/image2CWA6R9.png?pr-true)\n"
   ]
  },
  {
   "cell_type": "markdown",
   "metadata": {},
   "source": [
    "# 📚 Additional Resources  \n",
    "\n",
    "Enhance your Python skills with these valuable resources! 🚀  \n",
    "\n",
    "### 🔹 Official Python Documentation  \n",
    "📌 [Python Docs](https://docs.python.org/3/) – Comprehensive reference for Python functions and modules.  \n",
    "\n",
    "### 🔹 Interactive Learning Platforms  \n",
    "- 🖥 [W3Schools](https://www.w3schools.com/python/) – Beginner-friendly tutorials.  \n",
    "- 🎯 [Real Python](https://realpython.com/) – In-depth Python guides.  \n",
    "- 📖 [GeeksforGeeks](https://www.geeksforgeeks.org/python-programming-language/) – Tutorials and coding problems.  \n",
    "\n",
    "### 🔹 Python Practice & Challenges  \n",
    "- 🏆 [LeetCode](https://leetcode.com/) – Coding challenges to improve problem-solving skills.  \n",
    "- 🧠 [HackerRank](https://www.hackerrank.com/domains/tutorials/10-days-of-python) – Hands-on coding exercises.  \n",
    "- 🎮 [CodeWars](https://www.codewars.com/) – Fun coding challenges.  \n",
    "\n",
    "### 🔹 Python Community & Forums  \n",
    "- 💬 [Stack Overflow](https://stackoverflow.com/questions/tagged/python) – Ask & answer Python-related questions.  \n",
    "- 🔗 [Reddit r/learnpython](https://www.reddit.com/r/learnpython/) – Engage with the Python community.  \n",
    "- 🐍 [Python Discord](https://pythondiscord.com/) – Connect with other Python learners.  \n",
    "\n",
    "Keep learning and happy coding! 🚀🐍  \n"
   ]
  }
 ],
 "metadata": {
  "colab": {
   "provenance": []
  },
  "kaggle": {
   "accelerator": "none",
   "dataSources": [],
   "dockerImageVersionId": 30886,
   "isGpuEnabled": false,
   "isInternetEnabled": true,
   "language": "python",
   "sourceType": "notebook"
  },
  "kernelspec": {
   "display_name": "Python 3 (ipykernel)",
   "language": "python",
   "name": "python3"
  },
  "language_info": {
   "codemirror_mode": {
    "name": "ipython",
    "version": 3
   },
   "file_extension": ".py",
   "mimetype": "text/x-python",
   "name": "python",
   "nbconvert_exporter": "python",
   "pygments_lexer": "ipython3",
   "version": "3.11.7"
  }
 },
 "nbformat": 4,
 "nbformat_minor": 4
}
